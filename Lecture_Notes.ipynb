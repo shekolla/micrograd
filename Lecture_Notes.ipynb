{
 "cells": [
  {
   "cell_type": "markdown",
   "id": "01b51072-267f-4788-b220-bd52f3626fb4",
   "metadata": {},
   "source": [
    "* NN are just mathematical exp\n"
   ]
  },
  {
   "cell_type": "code",
   "execution_count": null,
   "id": "b084c9ca-06b5-4495-8765-28c07ce19b82",
   "metadata": {},
   "outputs": [],
   "source": []
  }
 ],
 "metadata": {
  "kernelspec": {
   "display_name": "Python 3 (ipykernel)",
   "language": "python",
   "name": "python3"
  },
  "language_info": {
   "codemirror_mode": {
    "name": "ipython",
    "version": 3
   },
   "file_extension": ".py",
   "mimetype": "text/x-python",
   "name": "python",
   "nbconvert_exporter": "python",
   "pygments_lexer": "ipython3",
   "version": "3.11.5"
  }
 },
 "nbformat": 4,
 "nbformat_minor": 5
}
